{
 "cells": [
  {
   "cell_type": "markdown",
   "id": "b95cb12e-fc96-406a-8340-f9d499fc0dc1",
   "metadata": {},
   "source": [
    "# Phân tích, khám phá dữ liệu\n"
   ]
  },
  {
   "cell_type": "code",
   "execution_count": null,
   "id": "eccde630-665b-4ca0-b4cc-8c437550db8c",
   "metadata": {},
   "outputs": [],
   "source": []
  }
 ],
 "metadata": {
  "kernelspec": {
   "display_name": "Python 3 (ipykernel)",
   "language": "python",
   "name": "python3"
  },
  "language_info": {
   "codemirror_mode": {
    "name": "ipython",
    "version": 3
   },
   "file_extension": ".py",
   "mimetype": "text/x-python",
   "name": "python",
   "nbconvert_exporter": "python",
   "pygments_lexer": "ipython3",
   "version": "3.8.8"
  }
 },
 "nbformat": 4,
 "nbformat_minor": 5
}
